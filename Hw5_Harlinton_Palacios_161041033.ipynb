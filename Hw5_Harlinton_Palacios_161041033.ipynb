{
 "cells": [
  {
   "cell_type": "markdown",
   "metadata": {},
   "source": [
    "###                                  <center> CSE321 Algorithms  <center>\n",
    "###                                               <center> Homework 5 </center>\n",
    "###                                    <center>   Harlinton Palacios Mosquera </center>\n",
    "                                   \n",
    "###                                       <center>  ID: 161041033  </center>                                        \n",
    "                             "
   ]
  },
  {
   "cell_type": "markdown",
   "metadata": {},
   "source": [
    "## 1-)\n",
    "\n",
    "Propose a greedy algorithm to solve this problem. That is, you are given a set of n jobs with a\n",
    "processing time ti and a weight wi for each job. You want to order the jobs to minimize the\n",
    "weighted sum of the completion times, ∑ 𝑊𝑖,𝐶𝑖.\n",
    "\n",
    "Minimizing total weighted completion time: We want to schedule jobs from n customers.\n",
    "\n",
    "Each customer has 1 job.\n",
    "\n",
    "Customer i has job i.\n",
    "\n",
    "Job i takes ti time, completed at time ci.\n",
    "\n",
    "There are different order of schedule algorithm, for this case we are going to use Order in decreasing weight\n",
    "\n",
    "Note: In this algorithm we used a Jobs.txt, which contain the jobs: like as follew \n",
    "\n",
    "| NumberJosb |\n",
    "|------------|\n",
    "|         |\n",
    "|Weight--Time  |\n",
    "|     |\n",
    "\n",
    "###  Complexity Time: \n",
    "O(n log n) elementary operations"
   ]
  },
  {
   "cell_type": "code",
   "execution_count": 7,
   "metadata": {},
   "outputs": [
    {
     "name": "stdout",
     "output_type": "stream",
     "text": [
      "\n",
      "Set Of Jobs\n",
      "\n",
      "weight: 10\n",
      "Time :  1\n",
      "_________________\n",
      "\n",
      "weight: 2\n",
      "Time :  3\n",
      "_________________\n"
     ]
    }
   ],
   "source": [
    "##Load a jobs data\n",
    "jobsFile = open('jobs.txt','r')\n",
    "\n",
    "lines = jobsFile.readlines()[1:]\n",
    "\n",
    "jobs = []\n",
    "sumTime = 0\n",
    "presum = 0\n",
    "time = 0\n",
    "weight = 0\n",
    "#print all set of jabs that we have in text docuement\n",
    "\n",
    "print(\"\\nSet Of Jobs\")\n",
    "\n",
    "#Split the values weight and  time    \n",
    "    \n",
    "for i in lines:\n",
    "    weight = int(i.split()[0])\n",
    "    time = int(i.split()[1])\n",
    "    jobs.append([weight,time,float(weight) / float(time)])\n",
    "    print(\"\\nweight:\",weight)\n",
    "    print(\"Time : \",time)    \n",
    "    print(\"_________________\")\n",
    "\n",
    "jobs = sorted(jobs,key = lambda x:x[2])\n",
    "\n",
    "# Order in decreasing weight\n",
    "#print(jobs)\n",
    "jobs = jobs[-1::-1]"
   ]
  },
  {
   "cell_type": "code",
   "execution_count": 3,
   "metadata": {},
   "outputs": [
    {
     "name": "stdout",
     "output_type": "stream",
     "text": [
      "Weighted completion time is: 18\n"
     ]
    }
   ],
   "source": [
    "for job in jobs:\n",
    "    presum += job[1]\n",
    "    sumTime += job[0] * presum\n",
    "    \n",
    "print(\"Weighted completion time is:\",sumTime)"
   ]
  },
  {
   "cell_type": "markdown",
   "metadata": {},
   "source": [
    "## 2-)\n",
    "Suppose you're running a lightweight consulting business ---\n",
    "just you, two associates, and some rented equipment.\n",
    "Your clients are distributed between the East Coast and\n",
    "the West Coast, and this leads to the following question.\n",
    "\n",
    "Each month, you can either run your business from an office\n",
    "in New York (NY), or from an office in San Francisco (SF).\n",
    "In month $i$, you'll incur an {\\em operating cost} of $N_i$\n",
    "if you run the business out of NY; you'll\n",
    "incur an operating cost of $S_i$\n",
    "if you run the business out of SF.\n",
    "(It depends on the distribution of client demands for that month.)\n",
    "\n",
    "However, if you run the business out of one city in\n",
    "month $i$, and then out of the other city in month $i + 1$,\n",
    "then you incur a fixed {\\em moving cost} of $M$\n",
    "to switch base offices.\n",
    "\n",
    "Given a sequence of $n$ months, a {\\em plan} is\n",
    "a sequence of $n$ locations --- each one equal to either NY or SF ---\n",
    "such that the $i^{\\rm th}$ location indicates the\n",
    "city in which you will be based in the $i^{\\rm th}$ month.\n",
    "The {\\em cost} of a plan is the sum of the operating costs\n",
    "for each of the $n$ months, plus a moving cost of $M$\n",
    "for each time you switch cities.\n",
    "The plan can begin in either city."
   ]
  },
  {
   "attachments": {
    "image.png": {
     "image/png": "[encoded data removed]"
    }
   },
   "cell_type": "markdown",
   "metadata": {},
   "source": [
    "### a) \n",
    "Show that the following algorithm does not correctly solve this problem by giving an instance\n",
    "which it does not return the correct answer.\n",
    "\n",
    "![image.png](attachment:image.png)\n",
    "\n",
    "\n",
    "## Solution:\n",
    "Suppose that,\n",
    "\n",
    "<b>M</b> = 10\n",
    "\n",
    "<b>N</b> = 3\n",
    "\n",
    "<b>{N1,N2,N3}</b> = {1,4,1} \n",
    "\n",
    "<b>{S1,S2,S3} </b>= {20,1,20}.\n",
    "\n",
    "\n",
    "| # | Month1 | Month2 | Month3\n",
    "| --- | --- | --- |\n",
    "| <b>NY</b> | 1 | 4 | 1 |\n",
    "| <b>SF</b> | 20 | 1 | 20 |\n",
    "|<img width=100/>|<img width=200/>|<img width=200/>|<img width=200/>|\n",
    "\n",
    "When performing a desktop test with this data in previously planted algorithm. This algorithm returns this plan of minimum cost : <b> [NY,SF,NY]</b>\n",
    "\n",
    "With a total cost of <b> 1 + 1 + 1 + 10 = 13 </b>, where the final term of 10 arises because you change\n",
    "locations once. <b>So is not optimal </b>\n",
    "\n",
    "But we can get a better optimal plan, which would be <b> [NY,NY,NY]</b> with a total cost <b> 1+4+1 = 6 </b>, whituot change locations.\n",
    "\n",
    "Therefore this algorithm no gives a optimal plan.\n"
   ]
  },
  {
   "cell_type": "markdown",
   "metadata": {},
   "source": [
    "### b)   \n",
    "Propose a dynamic programming algorithm that takes values for n, M, and sequences of operating costs N1 ..... Nn and Sl .....Sn, and returns the cost of an optimal plan\n",
    "\n",
    "\n",
    "### Complexity Time: \n",
    "\n",
    "The algorithm below has an interactions, and each takes cosntant time.\n",
    "Thus tha running time is <b> O(n)</b>\n"
   ]
  },
  {
   "cell_type": "code",
   "execution_count": 8,
   "metadata": {},
   "outputs": [
    {
     "name": "stdout",
     "output_type": "stream",
     "text": [
      "The cost of an optimal plan :  20\n"
     ]
    }
   ],
   "source": [
    "def minimumcost(sequenceS,sequenceN, m):\n",
    "    ss = sequenceS\n",
    "    sn = sequenceN\n",
    "    #Array to get result of the cost\n",
    "    optn = [0 for x in range(len(ss))]\n",
    "    opts = [0 for x in range(len(ss))]\n",
    "    \n",
    "    for i in range(0,len(ss)): \n",
    "        \n",
    "        #computer the costs \n",
    "        optn[i]= sn[i] + min(optn[i-1], m + opts[i-1])\n",
    "        opts[i]= ss[i] + min(opts[i-1], m + optn[i-1])     \n",
    "        \n",
    "        # Return the minimum cost plan\n",
    "    return min(opts[i],optn[i])\n",
    "\n",
    "# In this example the total cost is 24 but and it moves trees times.\n",
    "#n=[1,100,1,100]\n",
    "#s=[100,1,100,1]\n",
    "\n",
    "# This values in the a) part \n",
    "#n=[1,4,1]\n",
    "#s=[20,1,20]\n",
    "\n",
    "#This the homework example\n",
    "n=[1,3,20,30]\n",
    "s=[50,20,2,4]\n",
    "m=10\n",
    "    \n",
    "print(\"The cost of an optimal plan : \",minimumcost(s,n,m) )"
   ]
  }
 ],
 "metadata": {
  "kernelspec": {
   "display_name": "Python 3",
   "language": "python",
   "name": "python3"
  },
  "language_info": {
   "codemirror_mode": {
    "name": "ipython",
    "version": 3
   },
   "file_extension": ".py",
   "mimetype": "text/x-python",
   "name": "python",
   "nbconvert_exporter": "python",
   "pygments_lexer": "ipython3",
   "version": "3.6.5"
  }
 },
 "nbformat": 4,
 "nbformat_minor": 2
}
